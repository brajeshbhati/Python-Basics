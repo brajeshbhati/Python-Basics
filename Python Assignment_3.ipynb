{
 "cells": [
  {
   "cell_type": "markdown",
   "id": "2a8e9505",
   "metadata": {},
   "source": [
    "## Question 1.\tPython program to add two numbers\n",
    "\n"
   ]
  },
  {
   "cell_type": "code",
   "execution_count": 2,
   "id": "9560f22c",
   "metadata": {},
   "outputs": [
    {
     "name": "stdout",
     "output_type": "stream",
     "text": [
      "Enter 1st number: 22\n",
      "Enter 2nd number: 33\n",
      "55\n"
     ]
    }
   ],
   "source": [
    "num1 = int(input('Enter 1st number: '))\n",
    "num2 = int(input('Enter 2nd number: '))\n",
    "sum = num1 + num2 \n",
    "print(sum)"
   ]
  },
  {
   "cell_type": "markdown",
   "id": "04f077a5",
   "metadata": {},
   "source": [
    "## Question 2.Maximum of two numbers in Python\n"
   ]
  },
  {
   "cell_type": "code",
   "execution_count": 3,
   "id": "de8dcf82",
   "metadata": {},
   "outputs": [
    {
     "name": "stdout",
     "output_type": "stream",
     "text": [
      "9\n"
     ]
    }
   ],
   "source": [
    "#using max() function\n",
    "a = 4\n",
    "b = 9\n",
    "maximum = max(a,b)\n",
    "print(maximum)"
   ]
  },
  {
   "cell_type": "markdown",
   "id": "1efa765f",
   "metadata": {},
   "source": [
    "## Question 3.\tPython Program for factorial of a number\n"
   ]
  },
  {
   "cell_type": "code",
   "execution_count": 6,
   "id": "053d1d5c",
   "metadata": {},
   "outputs": [
    {
     "name": "stdout",
     "output_type": "stream",
     "text": [
      "Enter the number: 66\n",
      "The factorial of this number is:  544344939077443064003729240247842752644293064388798874532860126869671081148416000000000000000\n"
     ]
    }
   ],
   "source": [
    "n = int(input(\"Enter the number: \")) #take input from the user\n",
    "factorial = 1\n",
    "if n < 0: #if number is negative\n",
    "    print(\"The factorial can't be possible for negative numbers.\")\n",
    "elif n == 0: # if the number is 0\n",
    "    print(\"The factorial of 0 is 1\")\n",
    "else:\n",
    "    for i in range (1, n + 1): \n",
    "        factorial = factorial*i\n",
    "    print(\"The factorial of this number is: \",factorial)"
   ]
  },
  {
   "cell_type": "markdown",
   "id": "33404611",
   "metadata": {},
   "source": [
    "## 4.\tPython Program for simple interest\n"
   ]
  },
  {
   "cell_type": "code",
   "execution_count": 5,
   "id": "2594116c",
   "metadata": {},
   "outputs": [
    {
     "name": "stdout",
     "output_type": "stream",
     "text": [
      "Amount: 1000\n",
      "rate: 2.5\n",
      "time in months: 6\n",
      "150.0\n"
     ]
    }
   ],
   "source": [
    "p = float(input(\"Amount: \"))\n",
    "r = float(input(\"rate: \"))\n",
    "t = int(input(\"time in months: \"))\n",
    "SI = p*r*t/100\n",
    "print(SI)\n"
   ]
  },
  {
   "cell_type": "markdown",
   "id": "d34f4a13",
   "metadata": {},
   "source": [
    "## 5.\tPython Program for compound interest\n"
   ]
  },
  {
   "cell_type": "code",
   "execution_count": 20,
   "id": "dcb67c1a",
   "metadata": {},
   "outputs": [
    {
     "name": "stdout",
     "output_type": "stream",
     "text": [
      "Amount: 1000\n",
      "Rate: 2\n",
      "time in years: 1\n",
      "1040.4\n"
     ]
    }
   ],
   "source": [
    "p = float(input(\"Amount: \"))\n",
    "r  = float(input(\"Rate: \"))\n",
    "t = int(input(\"time in years: \"))\n",
    "n = 2 #the interest compounded per year is fixed to be 2,  we can also get the input from user when required.\n",
    "C_I = p*(pow((1+r/100),n*t))\n",
    "print(C_I)"
   ]
  },
  {
   "cell_type": "markdown",
   "id": "f5bc28d2",
   "metadata": {},
   "source": [
    "## 6.\tPython Program to check Armstrong Number\n"
   ]
  },
  {
   "cell_type": "code",
   "execution_count": 3,
   "id": "c75e2e08",
   "metadata": {},
   "outputs": [
    {
     "name": "stdout",
     "output_type": "stream",
     "text": [
      "Enter the number: 12\n",
      "12 is not an Armstrong number.\n"
     ]
    }
   ],
   "source": [
    "a = int(input(\"Enter the number: \"))\n",
    "sum = 0\n",
    "temp = a\n",
    "while temp > 0:\n",
    "    digit = temp % 10\n",
    "    sum += digit **3\n",
    "    temp //= 10\n",
    "if a == sum:\n",
    "    print(a, \"is an Armstrong number.\")\n",
    "else:\n",
    "    print(a, \"is not an Armstrong number.\")"
   ]
  },
  {
   "cell_type": "markdown",
   "id": "d30c6f3c",
   "metadata": {},
   "source": [
    "## 7.\tPython Program for Program to find area of a circle\n"
   ]
  },
  {
   "cell_type": "code",
   "execution_count": 11,
   "id": "76c4ed03",
   "metadata": {},
   "outputs": [
    {
     "name": "stdout",
     "output_type": "stream",
     "text": [
      "Enter radius of the circle in cm: 5\n",
      "the area of circle in cm sqr is: 246.93877551020407\n"
     ]
    }
   ],
   "source": [
    "radius = float(input(\"Enter radius of the circle in cm: \"))\n",
    "pi = 22/7\n",
    "area = (pi*radius)**2\n",
    "print(\"the area of circle in cm sqr is:\", area)"
   ]
  },
  {
   "cell_type": "markdown",
   "id": "1a8ead25",
   "metadata": {},
   "source": [
    "## 8.\tPython program to print all Prime numbers in an Interval\n"
   ]
  },
  {
   "cell_type": "code",
   "execution_count": 6,
   "id": "74e2ff11",
   "metadata": {},
   "outputs": [
    {
     "name": "stdout",
     "output_type": "stream",
     "text": [
      "Enter the lower  number: 3\n",
      "Enter the upper number:57\n",
      "The prime nunbers between the range are: \n",
      "3\n",
      "5\n",
      "7\n",
      "11\n",
      "13\n",
      "17\n",
      "19\n",
      "23\n",
      "29\n",
      "31\n",
      "37\n",
      "41\n",
      "43\n",
      "47\n",
      "53\n"
     ]
    }
   ],
   "source": [
    "lower = int(input(\"Enter the lower  number: \"))\n",
    "upper = int(input(\"Enter the upper number:\"))\n",
    "\n",
    "print(\"The prime nunbers between the range are: \")\n",
    "\n",
    "for number in range (lower, upper + 1):\n",
    "    if number > 1:\n",
    "        for i in range(2, number):\n",
    "            if (number % i == 0):\n",
    "                break\n",
    "        else:\n",
    "            print(number)\n",
    "\n"
   ]
  },
  {
   "cell_type": "markdown",
   "id": "c50e2117",
   "metadata": {},
   "source": [
    "## 9.\tPython program to check whether a number is Prime or not\n"
   ]
  },
  {
   "cell_type": "code",
   "execution_count": 23,
   "id": "8d36a3e1",
   "metadata": {},
   "outputs": [
    {
     "name": "stdout",
     "output_type": "stream",
     "text": [
      "Enter the number: 89\n",
      "89 is a prime number.\n"
     ]
    }
   ],
   "source": [
    "num = int(input(\"Enter the number: \"))\n",
    "if num > 1:\n",
    "    for i in range(2, int(num/2)+1):\n",
    "        if (num % i) == 0:\n",
    "            print(num, \"is not a prime number.\")\n",
    "            break\n",
    "    else:\n",
    "            print(num, \"is a prime number.\")\n",
    "else:\n",
    "        print(num, \"is a not prime number.\")"
   ]
  },
  {
   "cell_type": "markdown",
   "id": "b9af7e39",
   "metadata": {},
   "source": [
    "## 10.\tPython Program for n-th Fibonacci number\n"
   ]
  },
  {
   "cell_type": "code",
   "execution_count": 7,
   "id": "a9090f85",
   "metadata": {},
   "outputs": [
    {
     "name": "stdout",
     "output_type": "stream",
     "text": [
      "Enter a number: 8\n",
      "The 8th Fibonacci number is 13\n"
     ]
    }
   ],
   "source": [
    "def fibonacci(n):\n",
    "    if n <= 0:\n",
    "        return \"Invalid input\"\n",
    "    elif n == 1:\n",
    "        return 0\n",
    "    elif n == 2:\n",
    "        return 1\n",
    "    else:\n",
    "        fib = [0, 1]\n",
    "        for i in range(2, n):\n",
    "            fib.append(fib[i-1] + fib[i-2])\n",
    "        return fib[-1]\n",
    "\n",
    "n = int(input(\"Enter a number: \"))\n",
    "print(f\"The {n}th Fibonacci number is {fibonacci(n)}\")"
   ]
  },
  {
   "cell_type": "markdown",
   "id": "d5f9d672",
   "metadata": {},
   "source": [
    "## 11.\tPython Program for How to check if a given number is Fibonacci number?\n"
   ]
  },
  {
   "cell_type": "code",
   "execution_count": 19,
   "id": "357a8c96",
   "metadata": {},
   "outputs": [
    {
     "name": "stdout",
     "output_type": "stream",
     "text": [
      "Enter the number: 3\n",
      "Yes\n"
     ]
    }
   ],
   "source": [
    "n = int(input(\"Enter the number: \"))\n",
    "a = 0\n",
    "b = 1\n",
    "while b < n:\n",
    "    c = a + b\n",
    "    a = b\n",
    "    b = c\n",
    "if b == n:\n",
    "    print(\"Yes\")\n",
    "else:\n",
    "    print(\"No\")"
   ]
  },
  {
   "cell_type": "markdown",
   "id": "c4673598",
   "metadata": {},
   "source": [
    "## 12.\tPython Program for n\\’th multiple of a number in Fibonacci Series\n"
   ]
  },
  {
   "cell_type": "code",
   "execution_count": 15,
   "id": "4d7960f0",
   "metadata": {},
   "outputs": [
    {
     "name": "stdout",
     "output_type": "stream",
     "text": [
      "Enter the number: 77\n",
      "Enter the value to find multiple of the number: 5\n",
      "Position of 5 th multiple of 77 in Fibonacci Series is 200\n"
     ]
    }
   ],
   "source": [
    "def findPosition(k, n):\n",
    "    f1 = 0\n",
    "    f2 = 1\n",
    "    i = 2\n",
    "    while i != 0:\n",
    "        f3 = f1 + f2\n",
    "        f1 = f2\n",
    "        f2 = f3\n",
    "        if f2 % k == 0:\n",
    "            return n * i\n",
    "        i += 1\n",
    "    return\n",
    "\n",
    "k = int(input(\"Enter the number: \"))\n",
    "n = int(input(\"Enter the value to find multiple of the number: \"))\n",
    "print(\"Position of\", n,\"th multiple of\", k,\"in Fibonacci Series is\", findPosition(k, n))"
   ]
  },
  {
   "cell_type": "markdown",
   "id": "118bb78a",
   "metadata": {},
   "source": [
    "## 13.\tProgram to print ASCII Value of a character\n"
   ]
  },
  {
   "cell_type": "code",
   "execution_count": 27,
   "id": "d8d0a89b",
   "metadata": {},
   "outputs": [
    {
     "name": "stdout",
     "output_type": "stream",
     "text": [
      "enter value: 7\n",
      "The ASCII value of '7' is 55\n"
     ]
    }
   ],
   "source": [
    "a = input(\"enter value: \")\n",
    "print(\"The ASCII value of '\" + a + \"' is\", ord(a))"
   ]
  },
  {
   "cell_type": "markdown",
   "id": "f9780302",
   "metadata": {},
   "source": [
    "## 14.\tPython Program for Sum of squares of first n natural numbers\n"
   ]
  },
  {
   "cell_type": "code",
   "execution_count": 31,
   "id": "0ea949d1",
   "metadata": {},
   "outputs": [
    {
     "name": "stdout",
     "output_type": "stream",
     "text": [
      "Enter the number: 2\n",
      "The sum of square:  5\n"
     ]
    }
   ],
   "source": [
    "n = int(input(\"Enter the number: \"))\n",
    "\n",
    "sum = 0\n",
    "for i in range(1, n + 1):\n",
    "    sum += i*i\n",
    "print(\"The sum of square: \", sum)"
   ]
  },
  {
   "cell_type": "markdown",
   "id": "9b61fe88",
   "metadata": {},
   "source": [
    "## 15.\tPython Program for cube sum of first n natural numbers"
   ]
  },
  {
   "cell_type": "code",
   "execution_count": 37,
   "id": "47eb1556",
   "metadata": {},
   "outputs": [
    {
     "name": "stdout",
     "output_type": "stream",
     "text": [
      "Enter the number: 5\n",
      "The cube sum of the value is:  225\n"
     ]
    }
   ],
   "source": [
    "n = int(input(\"Enter the number: \"))\n",
    "\n",
    "sum = 0\n",
    "for i in range(1, n + 1):\n",
    "    sum += i**3\n",
    "print(\"The cube sum of the value is: \", sum)"
   ]
  }
 ],
 "metadata": {
  "kernelspec": {
   "display_name": "Python 3 (ipykernel)",
   "language": "python",
   "name": "python3"
  },
  "language_info": {
   "codemirror_mode": {
    "name": "ipython",
    "version": 3
   },
   "file_extension": ".py",
   "mimetype": "text/x-python",
   "name": "python",
   "nbconvert_exporter": "python",
   "pygments_lexer": "ipython3",
   "version": "3.9.12"
  }
 },
 "nbformat": 4,
 "nbformat_minor": 5
}
