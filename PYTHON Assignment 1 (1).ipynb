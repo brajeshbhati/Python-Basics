{
 "cells": [
  {
   "cell_type": "markdown",
   "id": "692738dc",
   "metadata": {},
   "source": [
    "`Question 1`. In the below elements which of them are values or an expression? eg:- values can be integer or \n",
    "string and expressions will be mathematical operators.\n",
    "\n",
    "*\n",
    "\n",
    "‘VGU’\n",
    "\n",
    "-89.5\n",
    "\n",
    "-\n",
    "\n",
    "/\n",
    "\n",
    "+\n",
    "\n",
    "6\n"
   ]
  },
  {
   "cell_type": "markdown",
   "id": "262da9fb",
   "metadata": {},
   "source": [
    "ANSWER 1.\n",
    "\n",
    "`VALUES` --> 'VGU' , -89.5, and 6\n",
    "\n",
    "`EXPRESSION` --> *, -, /, +"
   ]
  },
  {
   "cell_type": "markdown",
   "id": "522564ba",
   "metadata": {},
   "source": [
    "Question 2. What is the difference between string and variable?"
   ]
  },
  {
   "cell_type": "markdown",
   "id": "755e1032",
   "metadata": {},
   "source": [
    "**Answer**\n",
    "\n",
    "`Strings` ---> these  are the data written in (' ') or (\" \") and can be stored in variable.\n",
    "\n",
    "`Variable` ---> It is name that is used to store the data/value  in the memory.\n",
    "\n",
    "exp..  a = 'Hello Vishwa Sir'\n",
    "\n",
    "here, a is the variable and Hello Vishwaa Sir is reffered as string."
   ]
  },
  {
   "cell_type": "markdown",
   "id": "dd580f6a",
   "metadata": {},
   "source": [
    "Question 3. Describe three different data types.\n"
   ]
  },
  {
   "cell_type": "markdown",
   "id": "7cc4ad30",
   "metadata": {},
   "source": [
    "**Answer**\n",
    "\n",
    "The three datatypes are:\n",
    "    \n",
    "1. Integer --> These are the datatypes which represent any integer value. ex. -2, -1, 0, 1, 2....... and so on.\n",
    "\n",
    "`int` function is used to represent integer.\n",
    "\n",
    "2. Float ---> This datatype represent any decimal value. ex.  1.3, 4.566 and so on. \n",
    "\n",
    "`float` function is used to represent float in python.\n",
    "\n",
    "3. String --> this datatype is used to represent any sequence of character in python language. it is always written in single quote ('..') or double quotes (\"...\").\n",
    "\n",
    "`str` function is used represent any string object.\n",
    "\n",
    "\n"
   ]
  },
  {
   "cell_type": "code",
   "execution_count": 7,
   "id": "44bbf710",
   "metadata": {},
   "outputs": [
    {
     "name": "stdout",
     "output_type": "stream",
     "text": [
      "<class 'int'>\n",
      "<class 'float'>\n",
      "<class 'str'>\n"
     ]
    }
   ],
   "source": [
    "my_integer = 67\n",
    "my_float = 34.555\n",
    "my_string = 'Hello Python'\n",
    "\n",
    "print(type(my_integer))\n",
    "print(type( my_float))\n",
    "print(type(my_string))"
   ]
  },
  {
   "cell_type": "markdown",
   "id": "4a07a56f",
   "metadata": {},
   "source": [
    "Question 4. What is an expression made up of? What do all expressions do?"
   ]
  },
  {
   "cell_type": "markdown",
   "id": "b3b260e1",
   "metadata": {},
   "source": [
    "**Answer**\n",
    "\n",
    "An expression is made of the combination of variables, operators and operands and produce some results on the basis of the inputs provided.\n",
    "Expressions are used to manipulate data, make some calculations and make decisions in the program."
   ]
  },
  {
   "cell_type": "markdown",
   "id": "8ebb90e0",
   "metadata": {},
   "source": [
    "Question 5. This assignment statements, like spam = 10. What is the difference between an expression and a \n",
    "statement?"
   ]
  },
  {
   "cell_type": "markdown",
   "id": "d38fe8fa",
   "metadata": {},
   "source": [
    "**Answer**\n",
    "\n",
    "An expression is the  combinations of variables, operators and operands that is evaluated to produce a value.\n",
    "while statement is a line of code that perform operations such as assigning value to the variable.\n",
    "\n",
    "spam = 10 is the statement in which the value `10` is assigned to the variable `spam`.\n",
    "\n"
   ]
  },
  {
   "cell_type": "markdown",
   "id": "da82c533",
   "metadata": {},
   "source": [
    "Question 6. After running the following code, what does the variable bacon contain?\n",
    "\n",
    "bacon = 22\n",
    "\n",
    "bacon + 1"
   ]
  },
  {
   "cell_type": "markdown",
   "id": "d4b087ea",
   "metadata": {},
   "source": [
    " `Answer 6`. In the given code the variable bacon is containing the value i.e  `22`"
   ]
  },
  {
   "cell_type": "markdown",
   "id": "b0f202b1",
   "metadata": {},
   "source": [
    "Question 7. What should the values of the following two terms be?\n",
    "\n",
    "'spam' + 'spamspam'\n",
    "\n",
    "'spam' * 3"
   ]
  },
  {
   "cell_type": "code",
   "execution_count": 8,
   "id": "e2e50643",
   "metadata": {},
   "outputs": [
    {
     "data": {
      "text/plain": [
       "'spamspamspam'"
      ]
     },
     "execution_count": 8,
     "metadata": {},
     "output_type": "execute_result"
    }
   ],
   "source": [
    "'spam' + 'spamspam'\n",
    "\n",
    "'spam' * 3\n",
    "\n",
    "# The Value of the both terms will be same..\n",
    "#In the first statement the addition operation is performed to add two strings and \n",
    "#In second statement the multiplication operation is performed to thrice the same string.\"\"\""
   ]
  },
  {
   "cell_type": "markdown",
   "id": "e20c1b25",
   "metadata": {},
   "source": [
    "Question 8. Why dorito is a valid variable name while 78 is invalid?\n"
   ]
  },
  {
   "cell_type": "markdown",
   "id": "98bc645d",
   "metadata": {},
   "source": [
    "**Answer**\n",
    "\n",
    "This is because there are some set of rule while assigning a variable which says \"Name of variable must be start from any alphabet (A to Z, a to z and underscore _ ) and can't start from the digits but it can be end with them (0 to 9).\n",
    "\n",
    "that's why the dorito is valid variable but 78 is invalid variable."
   ]
  },
  {
   "cell_type": "markdown",
   "id": "ec8fcea4",
   "metadata": {},
   "source": [
    "Question 9. What three functions can be used to get the integer, floating-point number, or string version of a \n",
    "value?"
   ]
  },
  {
   "cell_type": "markdown",
   "id": "82fe9c95",
   "metadata": {},
   "source": [
    "**Answer**\n",
    "\n",
    "The following fuctions:  int(), float(), str() can be used to get the the integer, floating-point number or string when passing them;"
   ]
  },
  {
   "cell_type": "code",
   "execution_count": 9,
   "id": "ce91e2df",
   "metadata": {},
   "outputs": [
    {
     "name": "stdout",
     "output_type": "stream",
     "text": [
      "a = 77.255\n"
     ]
    }
   ],
   "source": [
    "a = 77.255 #float type\n",
    "print('a =' , a)"
   ]
  },
  {
   "cell_type": "code",
   "execution_count": 10,
   "id": "fac9a2e6",
   "metadata": {},
   "outputs": [
    {
     "data": {
      "text/plain": [
       "77"
      ]
     },
     "execution_count": 10,
     "metadata": {},
     "output_type": "execute_result"
    }
   ],
   "source": [
    "int(a) # converting into integer type"
   ]
  },
  {
   "cell_type": "code",
   "execution_count": 11,
   "id": "e7e80780",
   "metadata": {},
   "outputs": [],
   "source": [
    "b = 66 #integer type"
   ]
  },
  {
   "cell_type": "code",
   "execution_count": 12,
   "id": "6c20fa15",
   "metadata": {},
   "outputs": [
    {
     "data": {
      "text/plain": [
       "66.0"
      ]
     },
     "execution_count": 12,
     "metadata": {},
     "output_type": "execute_result"
    }
   ],
   "source": [
    "float(b) #converting into float type"
   ]
  },
  {
   "cell_type": "code",
   "execution_count": 13,
   "id": "8ce7c151",
   "metadata": {},
   "outputs": [],
   "source": [
    "c = 87 #integer type"
   ]
  },
  {
   "cell_type": "code",
   "execution_count": 14,
   "id": "a472da8a",
   "metadata": {},
   "outputs": [
    {
     "data": {
      "text/plain": [
       "'87'"
      ]
     },
     "execution_count": 14,
     "metadata": {},
     "output_type": "execute_result"
    }
   ],
   "source": [
    "str(c) #converting into string type"
   ]
  },
  {
   "cell_type": "markdown",
   "id": "6e9be136",
   "metadata": {},
   "source": [
    "Question 10. Why does this expression cause an error? How can you fix it?\n",
    "'I have eaten ' + 99 + ' burritos.'"
   ]
  },
  {
   "cell_type": "code",
   "execution_count": 15,
   "id": "826511f7",
   "metadata": {},
   "outputs": [
    {
     "ename": "TypeError",
     "evalue": "can only concatenate str (not \"int\") to str",
     "output_type": "error",
     "traceback": [
      "\u001b[1;31m---------------------------------------------------------------------------\u001b[0m",
      "\u001b[1;31mTypeError\u001b[0m                                 Traceback (most recent call last)",
      "Input \u001b[1;32mIn [15]\u001b[0m, in \u001b[0;36m<cell line: 1>\u001b[1;34m()\u001b[0m\n\u001b[1;32m----> 1\u001b[0m \u001b[38;5;124;43m'\u001b[39;49m\u001b[38;5;124;43mI have eaten \u001b[39;49m\u001b[38;5;124;43m'\u001b[39;49m\u001b[43m \u001b[49m\u001b[38;5;241;43m+\u001b[39;49m\u001b[43m \u001b[49m\u001b[38;5;241;43m99\u001b[39;49m \u001b[38;5;241m+\u001b[39m \u001b[38;5;124m'\u001b[39m\u001b[38;5;124m burritos.\u001b[39m\u001b[38;5;124m'\u001b[39m\n",
      "\u001b[1;31mTypeError\u001b[0m: can only concatenate str (not \"int\") to str"
     ]
    }
   ],
   "source": [
    "'I have eaten ' + 99 + ' burritos.'"
   ]
  },
  {
   "cell_type": "markdown",
   "id": "9860ba4e",
   "metadata": {},
   "source": [
    "**Answer** \n",
    "\n",
    "- following code is returning error because the following expression can only concatenate with string  values not with integer values.\n",
    "\n",
    "this error can be fixed by changing the integer value in string i.e 99 to str(99)."
   ]
  },
  {
   "cell_type": "markdown",
   "id": "1554a5de",
   "metadata": {},
   "source": [
    "Question 11. Write code that prints Hello if 1 is stored in spam, prints Howdy if 2 is stored in spam, and prints \n",
    "Greetings! if anything else is stored in spam."
   ]
  },
  {
   "cell_type": "code",
   "execution_count": 17,
   "id": "75fa12a2",
   "metadata": {},
   "outputs": [
    {
     "name": "stdout",
     "output_type": "stream",
     "text": [
      "Enter the Value: 8\n",
      "Greetings!\n"
     ]
    }
   ],
   "source": [
    "spam = int(input(\"Enter the Value: \"))\n",
    "if spam == 1 :\n",
    "    print('Hello')\n",
    "elif spam == 2 :\n",
    "    print('Howdy')\n",
    "else :\n",
    "    print('Greetings!')"
   ]
  },
  {
   "cell_type": "markdown",
   "id": "7f6c8a43",
   "metadata": {},
   "source": [
    "Question 12. If your programme is stuck in an endless loop, what keys you’ll press?\n"
   ]
  },
  {
   "cell_type": "markdown",
   "id": "80e19872",
   "metadata": {},
   "source": [
    "- press CTRL + c to exit from the infinite loop"
   ]
  },
  {
   "cell_type": "markdown",
   "id": "0ade04e6",
   "metadata": {},
   "source": [
    "Question 13. How can you tell the difference between break and continue?"
   ]
  },
  {
   "cell_type": "markdown",
   "id": "f6d0d0e9",
   "metadata": {},
   "source": [
    "**Answer**\n",
    "\n",
    "- Break Statement :  \n",
    "Break statements is used in Python to exit or “break” a for or while conditional loop. When the loop ends, the code picks up\n",
    "from and executes the next line immediately following the loop that was broken\n",
    "\n",
    "- Continue Statement:  \n",
    "The continue statement is used to skip code within a loop for certain iterations of the loop. After the code is skipped,\n",
    "the loop continues where it left off"
   ]
  },
  {
   "cell_type": "code",
   "execution_count": 18,
   "id": "6c6b42d3",
   "metadata": {},
   "outputs": [
    {
     "name": "stdout",
     "output_type": "stream",
     "text": [
      "2\n"
     ]
    }
   ],
   "source": [
    "#Break Example\n",
    "a = [1,2,3]\n",
    "count = 0\n",
    "for i in a:\n",
    "    count+=a[i]\n",
    "    print(count)\n",
    "    if count == 2:\n",
    "        break\n",
    "#In this example, the loop will break after the count is equal to 2."
   ]
  },
  {
   "cell_type": "code",
   "execution_count": 19,
   "id": "6384173e",
   "metadata": {},
   "outputs": [
    {
     "name": "stdout",
     "output_type": "stream",
     "text": [
      "0\n",
      "1\n",
      "3\n"
     ]
    }
   ],
   "source": [
    "# continue example\n",
    "for x in range(4):\n",
    "    if (x==2):\n",
    "        continue\n",
    "    print(x)\n",
    "#This code will print all numbers from 0-4 except 2"
   ]
  },
  {
   "cell_type": "markdown",
   "id": "e991964f",
   "metadata": {},
   "source": [
    "Question 14. In a for loop, what is the difference between range(10), range(0, 10), and range(0, 10, 1)?\n"
   ]
  },
  {
   "cell_type": "markdown",
   "id": "72d9a4a0",
   "metadata": {},
   "source": [
    "**Answer**\n",
    "\n",
    "- There will be no difference between range(10), range(0, 10), and range(0, 10, 1) because range take 0 as starting point by default and 1 as increment."
   ]
  },
  {
   "cell_type": "code",
   "execution_count": 20,
   "id": "c94ca342",
   "metadata": {},
   "outputs": [
    {
     "name": "stdout",
     "output_type": "stream",
     "text": [
      "0\n",
      "1\n",
      "2\n",
      "3\n",
      "4\n",
      "5\n",
      "6\n",
      "7\n",
      "8\n",
      "9\n"
     ]
    }
   ],
   "source": [
    "for i in range(10):\n",
    "    print(i)"
   ]
  },
  {
   "cell_type": "code",
   "execution_count": 21,
   "id": "2e12cf8e",
   "metadata": {},
   "outputs": [
    {
     "name": "stdout",
     "output_type": "stream",
     "text": [
      "0\n",
      "1\n",
      "2\n",
      "3\n",
      "4\n",
      "5\n",
      "6\n",
      "7\n",
      "8\n",
      "9\n"
     ]
    }
   ],
   "source": [
    "for i in range(0, 10):\n",
    "    print(i)"
   ]
  },
  {
   "cell_type": "code",
   "execution_count": 22,
   "id": "974209e9",
   "metadata": {},
   "outputs": [
    {
     "name": "stdout",
     "output_type": "stream",
     "text": [
      "0\n",
      "1\n",
      "2\n",
      "3\n",
      "4\n",
      "5\n",
      "6\n",
      "7\n",
      "8\n",
      "9\n"
     ]
    }
   ],
   "source": [
    "for i in range(0, 10, 1):\n",
    "    print(i)"
   ]
  },
  {
   "cell_type": "markdown",
   "id": "c0ea552e",
   "metadata": {},
   "source": [
    "Question 15. Write a short program that prints the numbers 1 to 10 using a for loop. Then write an equivalent \n",
    "program that prints the numbers 1 to 10 using a while loop."
   ]
  },
  {
   "cell_type": "code",
   "execution_count": 23,
   "id": "54745551",
   "metadata": {},
   "outputs": [
    {
     "name": "stdout",
     "output_type": "stream",
     "text": [
      "1\n",
      "2\n",
      "3\n",
      "4\n",
      "5\n",
      "6\n",
      "7\n",
      "8\n",
      "9\n",
      "10\n"
     ]
    }
   ],
   "source": [
    "#program using for loop \n",
    "for i in range(1, 11): \n",
    "    print(i)"
   ]
  },
  {
   "cell_type": "code",
   "execution_count": 24,
   "id": "21a0b647",
   "metadata": {},
   "outputs": [
    {
     "name": "stdout",
     "output_type": "stream",
     "text": [
      "1\n",
      "2\n",
      "3\n",
      "4\n",
      "5\n",
      "6\n",
      "7\n",
      "8\n",
      "9\n",
      "10\n"
     ]
    }
   ],
   "source": [
    "#program using while loop\n",
    "a = 1\n",
    "while a <=10:\n",
    "    print(a)\n",
    "    a += 1"
   ]
  },
  {
   "cell_type": "markdown",
   "id": "29a18e0c",
   "metadata": {},
   "source": [
    "Question 16. If you had a function named bacon() inside a module named spam, how would you call it after \n",
    "importing spam? What statement creates a function?\n"
   ]
  },
  {
   "cell_type": "markdown",
   "id": "c518f792",
   "metadata": {},
   "source": [
    "**Answer**\n",
    "\n",
    "import spam\n",
    "\n",
    "a = spam.bacon()"
   ]
  },
  {
   "cell_type": "markdown",
   "id": "7ccd3e51",
   "metadata": {},
   "source": [
    "Question 17. What is the difference between a function and a function call?"
   ]
  },
  {
   "cell_type": "markdown",
   "id": "96e1aa9a",
   "metadata": {},
   "source": [
    "*Answer*\n",
    "\n",
    "- A function is a block of code that does a particular operation and returns a result. It usually accepts inputs as parameters and returns a result. The parameters are not mandatory. \n",
    "- A Function call : is the code used to pass control to a function"
   ]
  },
  {
   "cell_type": "markdown",
   "id": "8c982a1d",
   "metadata": {},
   "source": [
    "Question 18. How many global scopes are there in a Python program? How many local scopes?\n"
   ]
  },
  {
   "cell_type": "markdown",
   "id": "5b93e1c2",
   "metadata": {},
   "source": [
    " - There is only only one global scope in python and a local scope is created when a function is called."
   ]
  },
  {
   "cell_type": "markdown",
   "id": "fc867e40",
   "metadata": {},
   "source": [
    "Question 19. What happens to variables in a local scope when the function call returns?\n"
   ]
  },
  {
   "cell_type": "markdown",
   "id": "576df476",
   "metadata": {},
   "source": [
    "*Answer*\n",
    "\n",
    "- When a function returns, the local scope is destroyed, and all the variables in it are forgotten. we will not be able to access the out side the function"
   ]
  },
  {
   "cell_type": "markdown",
   "id": "19fd17cd",
   "metadata": {},
   "source": [
    "Question 20. What is the concept of a return value? Is it possible to have a return value in an expression?\n"
   ]
  },
  {
   "cell_type": "markdown",
   "id": "e829b229",
   "metadata": {},
   "source": [
    "*Answer*\n",
    "- A return value is the value that a function call evaluates to. A return value can be used as part of an expression, Like any value"
   ]
  },
  {
   "cell_type": "markdown",
   "id": "571d2fdb",
   "metadata": {},
   "source": [
    "Question 21. If a function does not have a return statement, what is the return value of a call to that function?\n"
   ]
  },
  {
   "cell_type": "markdown",
   "id": "cd0ebbb5",
   "metadata": {},
   "source": [
    "*Answer*\n",
    "- If there is no return statement for a function, its return value is None"
   ]
  },
  {
   "cell_type": "markdown",
   "id": "d7095923",
   "metadata": {},
   "source": [
    "Question 22. How do you make a function variable refer to the global variable?\n"
   ]
  },
  {
   "cell_type": "markdown",
   "id": "34397498",
   "metadata": {},
   "source": [
    "*Answer*\n",
    "- By representing a valible by global keywaord in the body of a function Example : global a"
   ]
  },
  {
   "cell_type": "markdown",
   "id": "84546a12",
   "metadata": {},
   "source": [
    "Question 23. What is the data type of None?\n"
   ]
  },
  {
   "cell_type": "markdown",
   "id": "b6b905d6",
   "metadata": {},
   "source": [
    "- The data type of none is NoneType"
   ]
  },
  {
   "cell_type": "markdown",
   "id": "be434885",
   "metadata": {},
   "source": [
    "Question 24. What does the sentence import areallyourpetsnamederic do?\n"
   ]
  },
  {
   "cell_type": "markdown",
   "id": "3a09c79b",
   "metadata": {},
   "source": [
    "- areallyourpetsnamederic ia not a python module. Importing this module will throughs ModuleNotFoundError exception"
   ]
  },
  {
   "cell_type": "code",
   "execution_count": 25,
   "id": "0af4ed76",
   "metadata": {},
   "outputs": [
    {
     "ename": "ModuleNotFoundError",
     "evalue": "No module named 'areallyourpetsnamederic'",
     "output_type": "error",
     "traceback": [
      "\u001b[1;31m---------------------------------------------------------------------------\u001b[0m",
      "\u001b[1;31mModuleNotFoundError\u001b[0m                       Traceback (most recent call last)",
      "Input \u001b[1;32mIn [25]\u001b[0m, in \u001b[0;36m<cell line: 1>\u001b[1;34m()\u001b[0m\n\u001b[1;32m----> 1\u001b[0m \u001b[38;5;28;01mimport\u001b[39;00m \u001b[38;5;21;01mareallyourpetsnamederic\u001b[39;00m\n",
      "\u001b[1;31mModuleNotFoundError\u001b[0m: No module named 'areallyourpetsnamederic'"
     ]
    }
   ],
   "source": [
    "import areallyourpetsnamederic "
   ]
  },
  {
   "cell_type": "markdown",
   "id": "e1c69ab5",
   "metadata": {},
   "source": [
    "Question 25. If you had a bacon() feature in a spam module, what would you call it after importing spam?\n"
   ]
  },
  {
   "cell_type": "markdown",
   "id": "f1f7cc8b",
   "metadata": {},
   "source": [
    "*Answer*\n",
    "- This function can be called with spam.bacon(). like below\n",
    "\n",
    "    import spam\n",
    "    \n",
    "    spam.bacon()"
   ]
  },
  {
   "cell_type": "markdown",
   "id": "4a686d33",
   "metadata": {},
   "source": [
    "Question 26. What can you do to save a programme from crashing if it encounters an error?\n"
   ]
  },
  {
   "cell_type": "markdown",
   "id": "2d9cf569",
   "metadata": {},
   "source": [
    "- we can write lines of code in try block. This will not crash the programme. And in except block we can catch the \n",
    "exception"
   ]
  },
  {
   "cell_type": "markdown",
   "id": "913519c5",
   "metadata": {},
   "source": [
    "Question 27. What is the purpose of the try clause? What is the purpose of the except clause?\n"
   ]
  },
  {
   "cell_type": "markdown",
   "id": "11124ecb",
   "metadata": {},
   "source": [
    "*Answer*\n",
    "- Try : The code that could potentially cause an error goes in the try clause.except : The code that executes if an error happens goes in the except clause, like print statments about exceptions, loggin statements."
   ]
  },
  {
   "cell_type": "markdown",
   "id": "f9952553",
   "metadata": {},
   "source": [
    "Question 28. What exactly is []?\n"
   ]
  },
  {
   "cell_type": "markdown",
   "id": "6fdf0142",
   "metadata": {},
   "source": [
    "*Answer*\n",
    "- [] is a emplty list, like a =[]"
   ]
  },
  {
   "cell_type": "markdown",
   "id": "05ff2b12",
   "metadata": {},
   "source": [
    "Question 29. In a list of values stored in a variable called spam, how would you assign the value 'hello' as the \n",
    "third value? (Assume [2, 4, 6, 8, 10] are in spam.)"
   ]
  },
  {
   "cell_type": "code",
   "execution_count": 26,
   "id": "b53f1458",
   "metadata": {},
   "outputs": [
    {
     "data": {
      "text/plain": [
       "[2, 4, 'hello', 8, 10]"
      ]
     },
     "execution_count": 26,
     "metadata": {},
     "output_type": "execute_result"
    }
   ],
   "source": [
    "# by changing the value in index 3\n",
    "spam = [2, 4, 6, 8, 10]\n",
    "spam[2] = 'hello'\n",
    "spam"
   ]
  },
  {
   "cell_type": "code",
   "execution_count": 27,
   "id": "6d0c1ceb",
   "metadata": {},
   "outputs": [
    {
     "data": {
      "text/plain": [
       "[2, 4, 'hello', 6, 8, 10]"
      ]
     },
     "execution_count": 27,
     "metadata": {},
     "output_type": "execute_result"
    }
   ],
   "source": [
    "# by inserting value in 3rd index\n",
    "spam = [2, 4, 6, 8, 10]\n",
    "spam.insert(2,'hello')\n",
    "spam"
   ]
  },
  {
   "cell_type": "markdown",
   "id": "313ab890",
   "metadata": {},
   "source": [
    "Question 30. Let's pretend the spam includes the list ['a', 'b', 'c', 'd'] for the next three queries."
   ]
  },
  {
   "cell_type": "code",
   "execution_count": 28,
   "id": "471eb874",
   "metadata": {},
   "outputs": [
    {
     "data": {
      "text/plain": [
       "'d'"
      ]
     },
     "execution_count": 28,
     "metadata": {},
     "output_type": "execute_result"
    }
   ],
   "source": [
    "spam = ['a', 'b','c','d']\n",
    "spam[int(int('3' * 2) / 11)] # spam[int(33/11)] = spam[3]"
   ]
  }
 ],
 "metadata": {
  "kernelspec": {
   "display_name": "Python 3 (ipykernel)",
   "language": "python",
   "name": "python3"
  },
  "language_info": {
   "codemirror_mode": {
    "name": "ipython",
    "version": 3
   },
   "file_extension": ".py",
   "mimetype": "text/x-python",
   "name": "python",
   "nbconvert_exporter": "python",
   "pygments_lexer": "ipython3",
   "version": "3.9.12"
  }
 },
 "nbformat": 4,
 "nbformat_minor": 5
}
